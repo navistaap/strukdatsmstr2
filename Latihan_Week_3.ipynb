{
  "nbformat": 4,
  "nbformat_minor": 0,
  "metadata": {
    "colab": {
      "provenance": []
    },
    "kernelspec": {
      "name": "python3",
      "display_name": "Python 3"
    },
    "language_info": {
      "name": "python"
    }
  },
  "cells": [
    {
      "cell_type": "code",
      "execution_count": null,
      "metadata": {
        "colab": {
          "base_uri": "https://localhost:8080/"
        },
        "id": "0Ck86JYib8Wa",
        "outputId": "60a58a68-d9a0-4612-e76d-7740c9af1f4e"
      },
      "outputs": [
        {
          "output_type": "stream",
          "name": "stdout",
          "text": [
            "Undo: Menghapus 'Ini teks ketiga.'\n",
            "Undo: Menghapus 'Ini teks kedua.'\n"
          ]
        }
      ],
      "source": [
        "class TextEditor:\n",
        "  def __init__(self):\n",
        "    self.history = []\n",
        "\n",
        "  def write(self, text):\n",
        "    self.history.append(text)\n",
        "\n",
        "  def undo(self):\n",
        "    if self.history:\n",
        "      return f\"Undo: Menghapus '{self.history.pop()}'\"\n",
        "    return \"Tidak ada yang bisa di-undo\"\n",
        "\n",
        "editor = TextEditor()\n",
        "editor.write(\"Halo, ini teks pertama.\")\n",
        "editor.write(\"Ini teks kedua.\")\n",
        "editor.write(\"Ini teks ketiga.\")\n",
        "\n",
        "print(editor.undo())\n",
        "print(editor.undo())"
      ]
    },
    {
      "cell_type": "code",
      "source": [
        "from collections import deque\n",
        "\n",
        "class BrowserHistory:\n",
        "  def __init__(self):\n",
        "    self.history = deque()\n",
        "\n",
        "  def visit(self, url):\n",
        "    self.history.append(url)\n",
        "    print(f\"mengunjungi: {url}\")\n",
        "\n",
        "  def back(self):\n",
        "    if self.history:\n",
        "      print(f\"Kembali ke: {self.history.pop()}\")\n",
        "    else:\n",
        "      print(\"Tidak ada riwayat!\")\n",
        "\n",
        "browser = BrowserHistory()\n",
        "browser.visit(\"google.com\")\n",
        "browser.visit(\"youtube.com\")\n",
        "browser.visit(\"github.com\")\n",
        "\n",
        "browser.back()\n",
        "browser.back()"
      ],
      "metadata": {
        "colab": {
          "base_uri": "https://localhost:8080/"
        },
        "id": "NXoni5M_eM5W",
        "outputId": "e7d93ff7-93b4-4da6-8d26-2af59cf514d1"
      },
      "execution_count": null,
      "outputs": [
        {
          "output_type": "stream",
          "name": "stdout",
          "text": [
            "mengunjungi: google.com\n",
            "mengunjungi: youtube.com\n",
            "mengunjungi: github.com\n",
            "Kembali ke: github.com\n",
            "Kembali ke: youtube.com\n"
          ]
        }
      ]
    },
    {
      "cell_type": "code",
      "source": [
        "from queue import LifoQueue\n",
        "\n",
        "class BackupSystem:\n",
        "  def __init__(self):\n",
        "    self.backups = LifoQueue()\n",
        "\n",
        "  def backup(self, version):\n",
        "    self.backups.put(version)\n",
        "\n",
        "  def latest_backup(self):\n",
        "    if not self.backups.empty():\n",
        "      return f\"Versi terbaru: {self.backups.queue[-1]}\"\n",
        "    return \"Tidak ada cadangan!\"\n",
        "\n",
        "backup_system = BackupSystem()\n",
        "backup_system.backup(\"backup_1\")\n",
        "backup_system.backup(\"Backup_2\")\n",
        "backup_system.backup(\"Backup_3\")\n",
        "\n",
        "print(backup_system.latest_backup())\n"
      ],
      "metadata": {
        "colab": {
          "base_uri": "https://localhost:8080/"
        },
        "id": "XH3Yx5_rfxYd",
        "outputId": "b2fbf7eb-c089-4058-94c2-5911c279099a"
      },
      "execution_count": null,
      "outputs": [
        {
          "output_type": "stream",
          "name": "stdout",
          "text": [
            "Versi terbaru: Backup_3\n"
          ]
        }
      ]
    },
    {
      "cell_type": "code",
      "source": [
        "class CustomerService:\n",
        "  def __init__(self):\n",
        "    self.tickets = []\n",
        "\n",
        "  def add_ticket(self, ticket):\n",
        "    self.tickets.append(ticket)\n",
        "\n",
        "  def process_ticket(self):\n",
        "    if not self.is_empty():\n",
        "      return f\"Memproses tiket: {self.tickets.pop()}\"\n",
        "    return \"Tidak ada tiket yang harus diproses.\"\n",
        "\n",
        "  def is_empty(self):\n",
        "    return len(self.tickets) == 0\n",
        "\n",
        "service = CustomerService()\n",
        "service.add_ticket(\"Tiket 001\")\n",
        "service.add_ticket(\"Tiket 002\")\n",
        "\n",
        "print(service.process_ticket())\n",
        "print(service.is_empty())"
      ],
      "metadata": {
        "colab": {
          "base_uri": "https://localhost:8080/"
        },
        "id": "UrUlp9blqnia",
        "outputId": "92793203-2da5-411c-ed18-309784b57896"
      },
      "execution_count": null,
      "outputs": [
        {
          "output_type": "stream",
          "name": "stdout",
          "text": [
            "Memproses tiket: Tiket 002\n",
            "False\n"
          ]
        }
      ]
    },
    {
      "cell_type": "markdown",
      "source": [
        "##Latihan 1"
      ],
      "metadata": {
        "id": "iuwiFwrn4kqQ"
      }
    },
    {
      "cell_type": "code",
      "source": [
        "class Calculator:\n",
        "    def __init__(self, initial_value):\n",
        "        self.value = initial_value\n",
        "        self.history = []\n",
        "\n",
        "    def add(self, num):\n",
        "        self.history.append(self.value)\n",
        "        self.value += num\n",
        "\n",
        "    def subtract(self, num):\n",
        "        self.history.append(self.value)\n",
        "        self.value -= num\n",
        "\n",
        "    def multiply(self, num):\n",
        "        self.history.append(self.value)\n",
        "        self.value *= num\n",
        "\n",
        "    def divide(self, num):\n",
        "        if num != 0:\n",
        "            self.history.append(self.value)\n",
        "            self.value /= num\n",
        "        else:\n",
        "            print(\"Error: Tidak dapat melakukan pembagian dengan nol.\")\n",
        "\n",
        "    def undo(self):\n",
        "        if self.history:\n",
        "            self.value = self.history.pop()\n",
        "            print(\"Operasi terakhir telah dibatalkan. Nilai saat ini:\", self.value)\n",
        "        else:\n",
        "            print(\"Tidak ada operasi sebelumnya yang dapat dibatalkan.\")\n",
        "\n",
        "    def get_value(self):\n",
        "        return self.value\n",
        "\n",
        "initial_value = int(input(\"Masukkan angka awal (misalnya dua digit terakhir NPM Anda): \"))\n",
        "calculator = Calculator(initial_value)\n",
        "\n",
        "while True:\n",
        "    print(\"\\nNilai saat ini:\", calculator.get_value())\n",
        "    print(\"Pilih operasi yang ingin dilakukan: + (Tambah), - (Kurang), * (Kali), / (Bagi), U (Undo), Q (Keluar)\")\n",
        "    choice = input(\"Masukkan simbol operasi: \").strip().upper()\n",
        "\n",
        "    if choice == \"Q\":\n",
        "        print(\"Terima kasih telah menggunakan kalkulator. Program selesai.\")\n",
        "        break\n",
        "    elif choice == \"U\":\n",
        "        calculator.undo()\n",
        "    elif choice in [\"+\", \"-\", \"*\", \"/\"]:\n",
        "        try:\n",
        "            number = float(input(\"Masukkan angka yang akan digunakan: \"))\n",
        "            if choice == \"+\":\n",
        "                calculator.add(number)\n",
        "            elif choice == \"-\":\n",
        "                calculator.subtract(number)\n",
        "            elif choice == \"*\":\n",
        "                calculator.multiply(number)\n",
        "            elif choice == \"/\":\n",
        "                calculator.divide(number)\n",
        "        except ValueError:\n",
        "            print(\"Input tidak valid! Silakan masukkan angka yang benar.\")\n",
        "    else:\n",
        "        print(\"Pilihan tidak dikenali. Silakan pilih operasi yang sesuai.\")\n"
      ],
      "metadata": {
        "id": "uDVhWN5HvNRg",
        "colab": {
          "base_uri": "https://localhost:8080/"
        },
        "outputId": "afaf7da9-1a28-4adb-d7ef-d1e9ee675b20"
      },
      "execution_count": 2,
      "outputs": [
        {
          "output_type": "stream",
          "name": "stdout",
          "text": [
            "Masukkan angka awal (misalnya dua digit terakhir NPM Anda): 59\n",
            "\n",
            "Nilai saat ini: 59\n",
            "Pilih operasi yang ingin dilakukan: + (Tambah), - (Kurang), * (Kali), / (Bagi), U (Undo), Q (Keluar)\n",
            "Masukkan simbol operasi: +\n",
            "Masukkan angka yang akan digunakan: 67\n",
            "\n",
            "Nilai saat ini: 126.0\n",
            "Pilih operasi yang ingin dilakukan: + (Tambah), - (Kurang), * (Kali), / (Bagi), U (Undo), Q (Keluar)\n",
            "Masukkan simbol operasi: -\n",
            "Masukkan angka yang akan digunakan: 45\n",
            "\n",
            "Nilai saat ini: 81.0\n",
            "Pilih operasi yang ingin dilakukan: + (Tambah), - (Kurang), * (Kali), / (Bagi), U (Undo), Q (Keluar)\n",
            "Masukkan simbol operasi: /\n",
            "Masukkan angka yang akan digunakan: 3\n",
            "\n",
            "Nilai saat ini: 27.0\n",
            "Pilih operasi yang ingin dilakukan: + (Tambah), - (Kurang), * (Kali), / (Bagi), U (Undo), Q (Keluar)\n",
            "Masukkan simbol operasi: *\n",
            "Masukkan angka yang akan digunakan: 2\n",
            "\n",
            "Nilai saat ini: 54.0\n",
            "Pilih operasi yang ingin dilakukan: + (Tambah), - (Kurang), * (Kali), / (Bagi), U (Undo), Q (Keluar)\n",
            "Masukkan simbol operasi: u\n",
            "Operasi terakhir telah dibatalkan. Nilai saat ini: 27.0\n",
            "\n",
            "Nilai saat ini: 27.0\n",
            "Pilih operasi yang ingin dilakukan: + (Tambah), - (Kurang), * (Kali), / (Bagi), U (Undo), Q (Keluar)\n",
            "Masukkan simbol operasi: q\n",
            "Terima kasih telah menggunakan kalkulator. Program selesai.\n"
          ]
        }
      ]
    },
    {
      "cell_type": "markdown",
      "source": [
        "## Latihan 2"
      ],
      "metadata": {
        "id": "8EznL0xI4feI"
      }
    },
    {
      "cell_type": "code",
      "source": [
        "from collections import deque\n",
        "\n",
        "class MobileAppNavigation:\n",
        "    def __init__(self):\n",
        "        self.history = deque()\n",
        "\n",
        "    def visit(self, feature):\n",
        "        self.history.append(feature)\n",
        "        print(f\"Mengunjungi: {feature}\")\n",
        "\n",
        "    def back(self):\n",
        "        if self.history:\n",
        "            last_feature = self.history.pop()\n",
        "            if self.history:\n",
        "                print(f\"Kembali ke: {self.history[-1]}\")\n",
        "            else:\n",
        "                print(\"Tidak ada riwayat sebelumnya!\")\n",
        "        else:\n",
        "            print(\"Riwayat kosong!\")\n",
        "\n",
        "    def show_history(self):\n",
        "        if self.history:\n",
        "            print(\"Riwayat fitur yang telah dikunjungi:\", \" -> \".join(self.history))\n",
        "        else:\n",
        "            print(\"Riwayat kosong!\")\n",
        "\n",
        "npm_last_two_digits = \"59\"\n",
        "initial_month = \"N\"\n",
        "\n",
        "features = [\n",
        "    f\"{initial_month}{npm_last_two_digits} Beranda\",\n",
        "    f\"{initial_month}{npm_last_two_digits} Pesan\",\n",
        "    f\"{initial_month}{npm_last_two_digits} Profil\",\n",
        "    f\"{initial_month}{npm_last_two_digits} Notifikasi\",\n",
        "    f\"{initial_month}{npm_last_two_digits} Pengaturan\"\n",
        "]\n",
        "\n",
        "app_history = MobileAppNavigation()\n",
        "\n",
        "for feature in features:\n",
        "    app_history.visit(feature)\n",
        "\n",
        "app_history.show_history()\n",
        "\n",
        "app_history.back()\n",
        "app_history.back()\n",
        "app_history.back()\n",
        "app_history.back()\n",
        "app_history.back()\n"
      ],
      "metadata": {
        "colab": {
          "base_uri": "https://localhost:8080/"
        },
        "id": "N9ElcpTcdb0L",
        "outputId": "232c8b63-802d-4453-b7b9-3589208fbddf"
      },
      "execution_count": 7,
      "outputs": [
        {
          "output_type": "stream",
          "name": "stdout",
          "text": [
            "Mengunjungi: N59 Beranda\n",
            "Mengunjungi: N59 Pesan\n",
            "Mengunjungi: N59 Profil\n",
            "Mengunjungi: N59 Notifikasi\n",
            "Mengunjungi: N59 Pengaturan\n",
            "Riwayat fitur yang telah dikunjungi: N59 Beranda -> N59 Pesan -> N59 Profil -> N59 Notifikasi -> N59 Pengaturan\n",
            "Kembali ke: N59 Notifikasi\n",
            "Kembali ke: N59 Profil\n",
            "Kembali ke: N59 Pesan\n",
            "Kembali ke: N59 Beranda\n",
            "Tidak ada riwayat sebelumnya!\n"
          ]
        }
      ]
    },
    {
      "cell_type": "markdown",
      "source": [
        "## Latihan 3"
      ],
      "metadata": {
        "id": "FqNw8L9I4cDP"
      }
    },
    {
      "cell_type": "code",
      "source": [
        "from queue import LifoQueue\n",
        "\n",
        "class EmailDraftSystem:\n",
        "    def __init__(self):\n",
        "        self.drafts = LifoQueue()\n",
        "\n",
        "    def save_draft(self, draft):\n",
        "        self.drafts.put(draft)\n",
        "        print(f\"Draft email disimpan: {draft}\")\n",
        "\n",
        "    def latest_draft(self):\n",
        "        if not self.drafts.empty():\n",
        "            return f\"Draft terakhir: {self.drafts.queue[-1]}\"\n",
        "        return \"Tidak ada draft email!\"\n",
        "\n",
        "email_system = EmailDraftSystem()\n",
        "email_system.save_draft(\"NA59 - Undangan Rapat\")\n",
        "email_system.save_draft(\"NA59 - Laporan Mingguan\")\n",
        "email_system.save_draft(\"NA59 - Proposal Proyek\")\n",
        "\n",
        "print(email_system.latest_draft())\n"
      ],
      "metadata": {
        "colab": {
          "base_uri": "https://localhost:8080/"
        },
        "id": "W2EHV6S3geu-",
        "outputId": "4d6cb260-cc98-47b3-c2e8-131d85af4dd7"
      },
      "execution_count": 8,
      "outputs": [
        {
          "output_type": "stream",
          "name": "stdout",
          "text": [
            "Draft email disimpan: NA59 - Undangan Rapat\n",
            "Draft email disimpan: NA59 - Laporan Mingguan\n",
            "Draft email disimpan: NA59 - Proposal Proyek\n",
            "Draft terakhir: NA59 - Proposal Proyek\n"
          ]
        }
      ]
    },
    {
      "cell_type": "markdown",
      "source": [
        "## Latihan 4\n"
      ],
      "metadata": {
        "id": "NEE4iJc54WkP"
      }
    },
    {
      "cell_type": "code",
      "source": [
        "class MovieTicketQueue:\n",
        "    def __init__(self):\n",
        "        self.tickets = []\n",
        "\n",
        "    def buy_ticket(self, ticket):\n",
        "        self.tickets.append(ticket)\n",
        "        print(f\"Tiket dibeli: {ticket}\")\n",
        "\n",
        "    def process_ticket(self):\n",
        "        if not self.is_empty():\n",
        "            return f\"Memproses tiket: {self.tickets.pop()}\"\n",
        "        return \"Tidak ada tiket yang harus diproses.\"\n",
        "\n",
        "    def is_empty(self):\n",
        "        return len(self.tickets) == 0\n",
        "\n",
        "month_initial = \"N\"\n",
        "npm_last_two_digits = \"59\"\n",
        "film_name = f\"{month_initial}{npm_last_two_digits} - Film Seru\"\n",
        "\n",
        "ticket_system = MovieTicketQueue()\n",
        "ticket_system.buy_ticket(f\"{film_name} - Tiket 001\")\n",
        "ticket_system.buy_ticket(f\"{film_name} - Tiket 002\")\n",
        "ticket_system.buy_ticket(f\"{film_name} - Tiket 003\")\n",
        "\n",
        "print(ticket_system.process_ticket())\n",
        "print(ticket_system.process_ticket())\n",
        "print(ticket_system.process_ticket())\n",
        "print(ticket_system.process_ticket())\n"
      ],
      "metadata": {
        "colab": {
          "base_uri": "https://localhost:8080/"
        },
        "id": "xBVrNTj7qO3X",
        "outputId": "c3187479-bc29-4979-a648-64a8c590f2b8"
      },
      "execution_count": 9,
      "outputs": [
        {
          "output_type": "stream",
          "name": "stdout",
          "text": [
            "Tiket dibeli: N59 - Film Seru - Tiket 001\n",
            "Tiket dibeli: N59 - Film Seru - Tiket 002\n",
            "Tiket dibeli: N59 - Film Seru - Tiket 003\n",
            "Memproses tiket: N59 - Film Seru - Tiket 003\n",
            "Memproses tiket: N59 - Film Seru - Tiket 002\n",
            "Memproses tiket: N59 - Film Seru - Tiket 001\n",
            "Tidak ada tiket yang harus diproses.\n"
          ]
        }
      ]
    }
  ]
}