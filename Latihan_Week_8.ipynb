{
  "nbformat": 4,
  "nbformat_minor": 0,
  "metadata": {
    "colab": {
      "provenance": []
    },
    "kernelspec": {
      "name": "python3",
      "display_name": "Python 3"
    },
    "language_info": {
      "name": "python"
    }
  },
  "cells": [
    {
      "cell_type": "code",
      "source": [
        "graph = {\n",
        "    'A': ['B', 'C'],\n",
        "    'B': ['A', 'D', 'E'],\n",
        "    'C': ['A', 'F'],\n",
        "    'D': ['B'],\n",
        "    'E': ['B', 'F'],\n",
        "    'F': ['C', 'E']\n",
        "}\n",
        "\n",
        "def print_graph (graph):\n",
        "  for node in graph:\n",
        "    print (f\"{node} -> {graph[node]}\")\n",
        "\n",
        "print_graph(graph)"
      ],
      "metadata": {
        "colab": {
          "base_uri": "https://localhost:8080/"
        },
        "id": "cthgJUi1AiCo",
        "outputId": "b60738aa-39f8-4d83-bbd1-c55ce4ff86af"
      },
      "execution_count": null,
      "outputs": [
        {
          "output_type": "stream",
          "name": "stdout",
          "text": [
            "A -> ['B', 'C']\n",
            "B -> ['A', 'D', 'E']\n",
            "C -> ['A', 'F']\n",
            "D -> ['B']\n",
            "E -> ['B', 'F']\n",
            "F -> ['C', 'E']\n"
          ]
        }
      ]
    },
    {
      "cell_type": "code",
      "source": [
        "from collections import deque\n",
        "\n",
        "def bfs(graph, start):\n",
        "  visited = set()\n",
        "  queue = deque([start])\n",
        "\n",
        "  while queue:\n",
        "    vertex = queue.popleft()\n",
        "    if vertex not in visited:\n",
        "      print(vertex, end=\" \")\n",
        "      visited.add(vertex)\n",
        "      queue.extend([neighbor for neighbor in graph[vertex] if neighbor not in visited])\n",
        "\n",
        "bfs(graph, 'A')"
      ],
      "metadata": {
        "colab": {
          "base_uri": "https://localhost:8080/"
        },
        "id": "HpFE9_69AgTa",
        "outputId": "fcefa1b1-3ab6-4081-96ab-08ad01f73d78"
      },
      "execution_count": null,
      "outputs": [
        {
          "output_type": "stream",
          "name": "stdout",
          "text": [
            "A B C D E F "
          ]
        }
      ]
    },
    {
      "cell_type": "code",
      "source": [
        "def dfs(graph, start, visited=None):\n",
        "  if visited is None:\n",
        "    visited = set()\n",
        "\n",
        "  if start not in visited:\n",
        "    print(start, end=\" \")\n",
        "    visited.add(start)\n",
        "    for neighbor in graph[start]:\n",
        "      dfs(graph, neighbor, visited)\n",
        "\n",
        "dfs(graph, 'A')"
      ],
      "metadata": {
        "colab": {
          "base_uri": "https://localhost:8080/"
        },
        "id": "NCbmJ3c1Eb64",
        "outputId": "11c5ebbf-420d-4f2d-bc7f-951373f26270"
      },
      "execution_count": null,
      "outputs": [
        {
          "output_type": "stream",
          "name": "stdout",
          "text": [
            "A B D E F C "
          ]
        }
      ]
    },
    {
      "cell_type": "code",
      "execution_count": null,
      "metadata": {
        "colab": {
          "base_uri": "https://localhost:8080/"
        },
        "id": "ra3M7Zas-sjE",
        "outputId": "24dcd683-0ae9-4f1e-8a27-9915cdddf8ac"
      },
      "outputs": [
        {
          "output_type": "execute_result",
          "data": {
            "text/plain": [
              "{'A': 2, 'B': 3, 'C': 2, 'D': 1, 'E': 2, 'F': 2}"
            ]
          },
          "metadata": {},
          "execution_count": 24
        }
      ],
      "source": [
        "def count_neighbors (graph):\n",
        "  result = {}\n",
        "  for node in graph:\n",
        "    result[node] = len(graph[node])\n",
        "  return result\n",
        "\n",
        "count_neighbors(graph)"
      ]
    }
  ]
}