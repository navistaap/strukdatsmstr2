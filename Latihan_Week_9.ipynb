{
  "nbformat": 4,
  "nbformat_minor": 0,
  "metadata": {
    "colab": {
      "provenance": []
    },
    "kernelspec": {
      "name": "python3",
      "display_name": "Python 3"
    },
    "language_info": {
      "name": "python"
    }
  },
  "cells": [
    {
      "cell_type": "markdown",
      "source": [
        "# Implementasi Hash Table Sederhana\n"
      ],
      "metadata": {
        "id": "nz5lB4FlcaFm"
      }
    },
    {
      "cell_type": "code",
      "execution_count": 4,
      "metadata": {
        "colab": {
          "base_uri": "https://localhost:8080/"
        },
        "id": "tz0-yGTknykT",
        "outputId": "ab2fdb91-1322-439d-f877-dd41215ec75d"
      },
      "outputs": [
        {
          "output_type": "stream",
          "name": "stdout",
          "text": [
            "Nilai untuk 'apel': 200\n",
            "Nilai untuk 'pisang': 200\n"
          ]
        }
      ],
      "source": [
        "class SimpleHashTable:\n",
        "  def __init__(self, size):\n",
        "    self.size = size\n",
        "    self.table = [None] * self.size\n",
        "\n",
        "  def hash_function(self, key):\n",
        "    return hash(key) % self.size\n",
        "\n",
        "  def insert(self, key, value):\n",
        "    index = self.hash_function(key)\n",
        "    self.table[index] = value\n",
        "\n",
        "  def search(self, key):\n",
        "    index = self.hash_function(key)\n",
        "    return self.table[index]\n",
        "\n",
        "#contoh penggunaan\n",
        "ht = SimpleHashTable(10)\n",
        "ht.insert(\"apel\", 100)\n",
        "ht.insert(\"pisang\", 200)\n",
        "\n",
        "print(\"Nilai untuk 'apel':\", ht.search(\"apel\"))\n",
        "print(\"Nilai untuk 'pisang':\", ht.search(\"pisang\"))"
      ]
    },
    {
      "cell_type": "markdown",
      "source": [
        "# Penanganan Collision dengan Linear Probing"
      ],
      "metadata": {
        "id": "Pjky7rBrck_c"
      }
    },
    {
      "cell_type": "code",
      "source": [
        "class LinearProbingHashTable:\n",
        "  def __init__(self, size):\n",
        "    self.size = size\n",
        "    self.table = [None] * size\n",
        "\n",
        "  def hash_function(self, key):\n",
        "    return hash(key) % self.size\n",
        "\n",
        "  def insert(self, key, value):\n",
        "    index = self.hash_function(key)\n",
        "    original_index = index\n",
        "\n",
        "    while self.table[index] is not None:\n",
        "      if self.table[index][0] == key:\n",
        "        break\n",
        "      index = (index + 1) % self.size\n",
        "      if index == original_index:\n",
        "        raise Exception(\"Hash table penuh\")\n",
        "\n",
        "    self.table[index] = (key, value)\n",
        "\n",
        "  def search(self, key):\n",
        "    index = self.hash_function(key)\n",
        "    original_index = index\n",
        "\n",
        "    while self.table[index] is not None:\n",
        "      if self.table[index][0] == key:\n",
        "        return self.table[index][1]\n",
        "      index = (index + 1) % self.size\n",
        "      if index == original_index:\n",
        "        break\n",
        "    return None\n",
        "\n",
        "#Contoh Penggunaan\n",
        "ht = LinearProbingHashTable(10)\n",
        "ht.insert(\"apel\", 100)\n",
        "ht.insert(\"pisang\", 200)\n",
        "ht.insert(\"melon\", 300)\n",
        "\n",
        "print(\"Nilai untuk 'apel':\", ht.search(\"apel\"))\n",
        "print(\"Nilai untuk 'melon':\", ht.search(\"melon\"))"
      ],
      "metadata": {
        "colab": {
          "base_uri": "https://localhost:8080/"
        },
        "id": "c7zFLiDg6i0j",
        "outputId": "0cf4e05b-8830-4d7f-9ba7-fa7220584b43"
      },
      "execution_count": 5,
      "outputs": [
        {
          "output_type": "stream",
          "name": "stdout",
          "text": [
            "Nilai untuk 'apel': 100\n",
            "Nilai untuk 'melon': 300\n"
          ]
        }
      ]
    },
    {
      "cell_type": "markdown",
      "source": [
        "# Penanganan Collision dengan Chaining\n"
      ],
      "metadata": {
        "id": "u9DRnB9vcqSz"
      }
    },
    {
      "cell_type": "code",
      "source": [
        "class ChainingHashTable:\n",
        "  def __init__(self, size):\n",
        "    self.size = size\n",
        "    self.table = [[] for _ in range(size)]\n",
        "\n",
        "  def hash_function(self, key):\n",
        "    return hash(key) % self.size\n",
        "\n",
        "  def insert(self, key, value):\n",
        "    index = self.hash_function(key)\n",
        "    for i, (k, v) in enumerate(self.table[index]):\n",
        "      if k == key:\n",
        "        self.table[index][i] = (key, value)\n",
        "        return\n",
        "    self.table[index].append((key, value))\n",
        "\n",
        "  def search(self, key):\n",
        "    index = self.hash_function(key)\n",
        "    for k, v in self.table[index]:\n",
        "      if k == key:\n",
        "        return v\n",
        "    return None\n",
        "\n",
        "ht = ChainingHashTable(5)\n",
        "ht.insert(\"apel\", 100)\n",
        "ht.insert(\"pisang\", 200)\n",
        "ht.insert(\"melon\", 300)\n",
        "\n",
        "print(\"Nilai untuk 'apel':\", ht.search(\"apel\"))\n",
        "print(\"Nilai untuk 'melon':\", ht.search(\"melon\"))"
      ],
      "metadata": {
        "colab": {
          "base_uri": "https://localhost:8080/"
        },
        "id": "OyFO8iDK8LKB",
        "outputId": "520bab19-08fd-4720-9e25-ebd211b3b408"
      },
      "execution_count": 6,
      "outputs": [
        {
          "output_type": "stream",
          "name": "stdout",
          "text": [
            "Nilai untuk 'apel': 100\n",
            "Nilai untuk 'melon': 300\n"
          ]
        }
      ]
    }
  ]
}