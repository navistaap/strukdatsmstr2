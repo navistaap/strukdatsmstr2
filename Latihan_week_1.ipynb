{
  "nbformat": 4,
  "nbformat_minor": 0,
  "metadata": {
    "colab": {
      "provenance": []
    },
    "kernelspec": {
      "name": "python3",
      "display_name": "Python 3"
    },
    "language_info": {
      "name": "python"
    }
  },
  "cells": [
    {
      "cell_type": "markdown",
      "source": [
        "# Latihan 1"
      ],
      "metadata": {
        "id": "VRapIpACcNH2"
      }
    },
    {
      "cell_type": "code",
      "execution_count": null,
      "metadata": {
        "colab": {
          "base_uri": "https://localhost:8080/"
        },
        "id": "ybMXl83obc-Q",
        "outputId": "ad7f0408-e813-4733-8ee4-439d1c10a514"
      },
      "outputs": [
        {
          "output_type": "stream",
          "name": "stdout",
          "text": [
            "Isi array NPM: [2440506059, 2440506060, 2440506061, 2440506062, 2440506063]\n"
          ]
        }
      ],
      "source": [
        "data = []\n",
        "angka = [2440506059, 2440506060, 2440506061, 2440506062, 2440506063]\n",
        "print(\"Isi array NPM:\", angka)"
      ]
    },
    {
      "cell_type": "markdown",
      "source": [
        "# Latihan 2"
      ],
      "metadata": {
        "id": "KHRbpdCHcSCF"
      }
    },
    {
      "cell_type": "code",
      "source": [
        "angka.append(59)\n",
        "print(\"Array setelah penambahan elemen:\", angka)"
      ],
      "metadata": {
        "colab": {
          "base_uri": "https://localhost:8080/"
        },
        "id": "dVEJhL77cKv2",
        "outputId": "4e916761-6bde-4e77-c3d9-4e259232c322"
      },
      "execution_count": null,
      "outputs": [
        {
          "output_type": "stream",
          "name": "stdout",
          "text": [
            "Array setelah penambahan elemen: [2440506059, 2440506060, 2440506061, 2440506062, 2440506063, 59]\n"
          ]
        }
      ]
    },
    {
      "cell_type": "code",
      "source": [
        "angka.pop(0)\n",
        "print(\"Array setelah menghapus elemen pada indeks 0:\", angka)"
      ],
      "metadata": {
        "colab": {
          "base_uri": "https://localhost:8080/"
        },
        "id": "3pRQvqLucZwW",
        "outputId": "5b065433-0a9e-4150-fab9-9185ba2e5f59"
      },
      "execution_count": null,
      "outputs": [
        {
          "output_type": "stream",
          "name": "stdout",
          "text": [
            "Array setelah menghapus elemen pada indeks 0: [2440506060, 2440506061, 2440506062, 2440506063, 59]\n"
          ]
        }
      ]
    },
    {
      "cell_type": "markdown",
      "source": [
        "# Latihan 3"
      ],
      "metadata": {
        "id": "TMVsFsHYdIy1"
      }
    },
    {
      "cell_type": "code",
      "source": [
        "nama = ['Teknik', 'Ekonomi', 'Keguruan dan Ilmu Pendidikan', 'Ilmu Sosial dan Ilmu Politik', 'Pertanian']\n",
        "\n",
        "for fakultas in nama:\n",
        "  print(\"Fakultas:\", fakultas)"
      ],
      "metadata": {
        "colab": {
          "base_uri": "https://localhost:8080/"
        },
        "id": "sh8OnqVfdKnt",
        "outputId": "5ccb3e3d-2333-4f13-b54f-3457921d2504"
      },
      "execution_count": null,
      "outputs": [
        {
          "output_type": "stream",
          "name": "stdout",
          "text": [
            "Fakultas: Teknik\n",
            "Fakultas: Ekonomi\n",
            "Fakultas: Keguruan dan Ilmu Pendidikan\n",
            "Fakultas: Ilmu Sosial dan Ilmu Politik\n",
            "Fakultas: Pertanian\n"
          ]
        }
      ]
    },
    {
      "cell_type": "markdown",
      "source": [
        "## Latihan 4"
      ],
      "metadata": {
        "id": "ZjXwhexjfVcN"
      }
    },
    {
      "cell_type": "code",
      "source": [
        "harga = [10000, 7300, 6900, 6000]\n",
        "\n",
        "print(\"Jumlah total harga: Rp\", sum(harga))"
      ],
      "metadata": {
        "colab": {
          "base_uri": "https://localhost:8080/"
        },
        "id": "CylZ12v7dt6K",
        "outputId": "5cc1d046-2410-47d8-c14f-d11523d838d3"
      },
      "execution_count": null,
      "outputs": [
        {
          "output_type": "stream",
          "name": "stdout",
          "text": [
            "Jumlah total harga: Rp 30200\n"
          ]
        }
      ]
    },
    {
      "cell_type": "markdown",
      "source": [
        "# Latihan 5"
      ],
      "metadata": {
        "id": "-92be6-3hRuD"
      }
    },
    {
      "cell_type": "code",
      "source": [
        "matriks = [\n",
        "    [6, 0, 3, 1],\n",
        "    [4, 8, 6, 3],\n",
        "    [7, 9, 2, 2]\n",
        "]\n",
        "\n",
        "print(\"Isi array 2D:\")\n",
        "for baris in matriks:\n",
        "  print(baris)"
      ],
      "metadata": {
        "colab": {
          "base_uri": "https://localhost:8080/"
        },
        "id": "sCwg8aTogMV9",
        "outputId": "b49ddcb1-d9e7-4e42-d1c3-0731fb521098"
      },
      "execution_count": null,
      "outputs": [
        {
          "output_type": "stream",
          "name": "stdout",
          "text": [
            "Isi array 2D:\n",
            "[6, 0, 3, 1]\n",
            "[4, 8, 6, 3]\n",
            "[7, 9, 2, 2]\n"
          ]
        }
      ]
    },
    {
      "cell_type": "markdown",
      "source": [
        "# Latihan 6"
      ],
      "metadata": {
        "id": "Wfjv65cvhq8z"
      }
    },
    {
      "cell_type": "code",
      "source": [
        "print(\"Elemen pada baris 2, kolom 4:\", matriks[1][3])"
      ],
      "metadata": {
        "colab": {
          "base_uri": "https://localhost:8080/"
        },
        "id": "p0PBM9F0hi68",
        "outputId": "a95c82cf-5a80-4908-f73d-df238bbb00d0"
      },
      "execution_count": null,
      "outputs": [
        {
          "output_type": "stream",
          "name": "stdout",
          "text": [
            "Elemen pada baris 2, kolom 4: 3\n"
          ]
        }
      ]
    },
    {
      "cell_type": "markdown",
      "source": [
        "# Latihan 7"
      ],
      "metadata": {
        "id": "aTCl1JWnieRr"
      }
    },
    {
      "cell_type": "code",
      "source": [
        "matriks.append([3, 11, 20, 6])\n",
        "print(\"Matriks setelah ditambahkan baris baru:\", matriks)"
      ],
      "metadata": {
        "colab": {
          "base_uri": "https://localhost:8080/"
        },
        "id": "bWXc1ukPiY_z",
        "outputId": "83551d2f-ccd4-4206-ef5e-d6d8ddad624f"
      },
      "execution_count": null,
      "outputs": [
        {
          "output_type": "stream",
          "name": "stdout",
          "text": [
            "Matriks setelah ditambahkan baris baru: [[6, 0, 3, 1], [4, 8, 6, 3], [7, 9, 2, 2], [3, 11, 20, 6]]\n"
          ]
        }
      ]
    },
    {
      "cell_type": "markdown",
      "source": [
        "# Latihan 8"
      ],
      "metadata": {
        "id": "-ET52XSGjTvD"
      }
    },
    {
      "cell_type": "code",
      "source": [
        "matriks[3].pop(2)\n",
        "print(\"Array setelah menghapus elemen 3 dari baris terakhir:\", matriks)"
      ],
      "metadata": {
        "colab": {
          "base_uri": "https://localhost:8080/"
        },
        "id": "p4slJLlSjQNT",
        "outputId": "060ad1af-732a-4ebd-ce13-c3141d068ad1"
      },
      "execution_count": null,
      "outputs": [
        {
          "output_type": "stream",
          "name": "stdout",
          "text": [
            "Array setelah menghapus elemen 3 dari baris terakhir: [[6, 0, 3, 1], [4, 8, 6, 3], [7, 9, 2, 2], [3, 11, 6]]\n"
          ]
        }
      ]
    },
    {
      "cell_type": "markdown",
      "source": [
        "# Latihan 9"
      ],
      "metadata": {
        "id": "NyyAawbjmK-5"
      }
    },
    {
      "cell_type": "code",
      "source": [
        "matriks[3][2] = 14 #tanggal hari ini 14 Februari 2025\n",
        "print(\"Array setelah mengubah elemen pada baris ke-3, kolom ke-2:\", matriks)"
      ],
      "metadata": {
        "colab": {
          "base_uri": "https://localhost:8080/"
        },
        "id": "TBQRHaJhkZgz",
        "outputId": "0fd245ad-5189-4e19-ba2e-747889d018a7"
      },
      "execution_count": null,
      "outputs": [
        {
          "output_type": "stream",
          "name": "stdout",
          "text": [
            "Array setelah mengubah elemen pada baris ke-3, kolom ke-2: [[6, 0, 3, 1], [4, 8, 6, 3], [7, 9, 2, 2], [3, 11, 14]]\n"
          ]
        }
      ]
    },
    {
      "cell_type": "markdown",
      "source": [
        "# Latihan 10"
      ],
      "metadata": {
        "id": "QrTSwSqHnKMp"
      }
    },
    {
      "cell_type": "code",
      "source": [
        "belanja = [\"Buku\", \"Bolpoin\", \"Pensil\"]\n",
        "belanja.append(\"Penghapus\")\n",
        "belanja.remove(\"Bolpoin\")\n",
        "print(\"Daftar belanja terbaru:\", belanja)"
      ],
      "metadata": {
        "colab": {
          "base_uri": "https://localhost:8080/"
        },
        "id": "rESB9k2nnHYR",
        "outputId": "b8fbbf0f-146b-4ed3-8cd6-531c759c9515"
      },
      "execution_count": null,
      "outputs": [
        {
          "output_type": "stream",
          "name": "stdout",
          "text": [
            "Daftar belanja terbaru: ['Buku', 'Pensil', 'Penghapus']\n"
          ]
        }
      ]
    }
  ]
}