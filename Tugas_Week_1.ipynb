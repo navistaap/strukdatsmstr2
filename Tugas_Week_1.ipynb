{
  "nbformat": 4,
  "nbformat_minor": 0,
  "metadata": {
    "colab": {
      "provenance": []
    },
    "kernelspec": {
      "name": "python3",
      "display_name": "Python 3"
    },
    "language_info": {
      "name": "python"
    }
  },
  "cells": [
    {
      "cell_type": "code",
      "execution_count": 9,
      "metadata": {
        "colab": {
          "base_uri": "https://localhost:8080/"
        },
        "id": "ddgTO8hD3_v5",
        "outputId": "aa39cef6-0b90-418e-ac21-5529c10159e7"
      },
      "outputs": [
        {
          "output_type": "stream",
          "name": "stdout",
          "text": [
            "Masukkan ukuran peta (n): 5\n",
            "Selamat datang di Treasure Hunt (˶ᵔ ᵕ ᵔ˶)! Peta memiliki 5 lokasi (0 hingga 4).\n",
            "\n",
            "Harta karun telah disembunyikan! Sekarang giliran Anda menebak.\n",
            "Ayo temukan harta karun dengan menebak indeks yang benar (•̀o•́)ง.\n",
            "\n",
            "Peta saat ini: ['_', '_', '_', '_', '_']\n",
            "Masukkan tebakan Anda (0 hingga 4): 0\n",
            "Tebakan Anda salah nih. Coba lagi ya (•̀ᴗ•́)و ̑̑!\n",
            "\n",
            "Peta saat ini: ['_', '_', '_', '_', '_']\n",
            "Masukkan tebakan Anda (0 hingga 4): 1\n",
            "Tebakan Anda salah nih. Coba lagi ya (•̀ᴗ•́)و ̑̑!\n",
            "\n",
            "Peta saat ini: ['_', '_', '_', '_', '_']\n",
            "Masukkan tebakan Anda (0 hingga 4): 2\n",
            "Tebakan Anda salah nih. Coba lagi ya (•̀ᴗ•́)و ̑̑!\n",
            "\n",
            "Peta saat ini: ['_', '_', '_', '_', '_']\n",
            "Masukkan tebakan Anda (0 hingga 4): 3\n",
            "Tebakan Anda salah nih. Coba lagi ya (•̀ᴗ•́)و ̑̑!\n",
            "\n",
            "Peta saat ini: ['_', '_', '_', '_', '_']\n",
            "Masukkan tebakan Anda (0 hingga 4): 4\n",
            "Selamat (👍ᐛ )👍! Anda berhasil menemukan harta karun!\n",
            "Terima kasih sudah bermain!\n"
          ]
        }
      ],
      "source": [
        "import random\n",
        "\n",
        "size = int(input(\"Masukkan ukuran peta (n): \"))\n",
        "\n",
        "treasure_map = [\"_\" for _ in range(size)]\n",
        "\n",
        "print(f\"Selamat datang di Treasure Hunt (˶ᵔ ᵕ ᵔ˶)! Peta memiliki {size} lokasi (0 hingga {size-1}).\")\n",
        "treasure_index = random.randint(0, size-1)\n",
        "\n",
        "treasure_map[treasure_index] = \"x\"\n",
        "\n",
        "def play_treasure_hunt():\n",
        "    print(\"\\nHarta karun telah disembunyikan! Sekarang giliran Anda menebak.\")\n",
        "    print(\"Ayo temukan harta karun dengan menebak indeks yang benar (•̀o•́)ง.\")\n",
        "\n",
        "    while True:\n",
        "        print(\"\\nPeta saat ini:\", [\"_\" for _ in range(size)])\n",
        "\n",
        "        try:\n",
        "            guess = int(input(f\"Masukkan tebakan Anda (0 hingga {size-1}): \"))\n",
        "        except ValueError:\n",
        "            print(\"Masukkan angka yang valid dong!\")\n",
        "            continue\n",
        "\n",
        "        if guess < 0 or guess >= size:\n",
        "            print(\"Indeks tidak valid, pilih antara 0 hingga\", size-1)\n",
        "            continue\n",
        "\n",
        "        if treasure_map[guess] == \"x\":\n",
        "            print(\"Selamat (👍ᐛ )👍! Anda berhasil menemukan harta karun!\")\n",
        "            break\n",
        "        else:\n",
        "            print(\"Tebakan Anda salah nih. Coba lagi ya (•̀ᴗ•́)و ̑̑!\")\n",
        "\n",
        "    print(\"Terima kasih sudah bermain!\")\n",
        "\n",
        "play_treasure_hunt()"
      ]
    },
    {
      "cell_type": "code",
      "source": [],
      "metadata": {
        "id": "IliGrMMpZNad"
      },
      "execution_count": null,
      "outputs": []
    }
  ]
}