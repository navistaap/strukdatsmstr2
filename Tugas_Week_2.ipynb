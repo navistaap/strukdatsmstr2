{
  "nbformat": 4,
  "nbformat_minor": 0,
  "metadata": {
    "colab": {
      "provenance": []
    },
    "kernelspec": {
      "name": "python3",
      "display_name": "Python 3"
    },
    "language_info": {
      "name": "python"
    }
  },
  "cells": [
    {
      "cell_type": "code",
      "execution_count": 3,
      "metadata": {
        "colab": {
          "base_uri": "https://localhost:8080/"
        },
        "id": "RrKobvEupUwu",
        "outputId": "b86d4ea8-ba4d-4b03-d6d8-66f857466b28"
      },
      "outputs": [
        {
          "output_type": "stream",
          "name": "stdout",
          "text": [
            "Masukkan nama satpam ke-1: Navista Andara Putri\n",
            "Masukkan nama satpam ke-2: Naufal  Miftakhul Siddiq\n",
            "Masukkan nama satpam ke-3: Rino Ahmad Raga\n",
            "Masukkan nama satpam ke-4: Muhammad Amsyal Ikhsan\n",
            "\n",
            "Jadwal Piket Satpam Selama 2 Minggu:\n",
            "Hari 1: Navista Andara Putri\n",
            "Hari 2: Naufal  Miftakhul Siddiq\n",
            "Hari 3: Rino Ahmad Raga\n",
            "Hari 4: Muhammad Amsyal Ikhsan\n",
            "Hari 5: Navista Andara Putri\n",
            "Hari 6: Naufal  Miftakhul Siddiq\n",
            "Hari 7: Rino Ahmad Raga\n",
            "Hari 8: Muhammad Amsyal Ikhsan\n",
            "Hari 9: Navista Andara Putri\n",
            "Hari 10: Naufal  Miftakhul Siddiq\n",
            "Hari 11: Rino Ahmad Raga\n",
            "Hari 12: Muhammad Amsyal Ikhsan\n",
            "Hari 13: Navista Andara Putri\n",
            "Hari 14: Naufal  Miftakhul Siddiq\n"
          ]
        }
      ],
      "source": [
        "class Node:\n",
        "    def __init__(self, nama):\n",
        "        self.nama = nama\n",
        "        self.next = None\n",
        "\n",
        "class CircularLinkedList:\n",
        "    def __init__(self):\n",
        "        self.head = None\n",
        "\n",
        "    def tambah_satpam(self, nama):\n",
        "        new_node = Node(nama)\n",
        "        if not self.head:\n",
        "            self.head = new_node\n",
        "            self.head.next = self.head\n",
        "        else:\n",
        "            temp = self.head\n",
        "            while temp.next != self.head:\n",
        "                temp = temp.next\n",
        "            temp.next = new_node\n",
        "            new_node.next = self.head\n",
        "    def cetak_jadwal(self, jumlah_hari):\n",
        "        if not self.head:\n",
        "            print(\"Tidak ada satpam dalam daftar!\")\n",
        "            return\n",
        "\n",
        "        print(\"\\nJadwal Piket Satpam Selama 2 Minggu:\")\n",
        "        temp = self.head\n",
        "        for hari in range(1, jumlah_hari + 1):\n",
        "            print(f\"Hari {hari}: {temp.nama}\")\n",
        "            temp = temp.next\n",
        "\n",
        "\n",
        "satpam_list = CircularLinkedList()\n",
        "\n",
        "for i in range(1, 5):\n",
        "    nama = input(f\"Masukkan nama satpam ke-{i}: \")\n",
        "    satpam_list.tambah_satpam(nama)\n",
        "\n",
        "satpam_list.cetak_jadwal(14)"
      ]
    }
  ]
}