{
  "nbformat": 4,
  "nbformat_minor": 0,
  "metadata": {
    "colab": {
      "provenance": []
    },
    "kernelspec": {
      "name": "python3",
      "display_name": "Python 3"
    },
    "language_info": {
      "name": "python"
    }
  },
  "cells": [
    {
      "cell_type": "code",
      "source": [
        "import random\n",
        "import math\n",
        "\n",
        "daftar_angka = sorted(random.sample(range(1, 1001), 100))\n",
        "\n",
        "target = daftar_angka[len(daftar_angka) // 2]\n",
        "\n",
        "def linear_search(arr, target):\n",
        "    counter = 0\n",
        "    for i in range(len(arr)):\n",
        "        counter += 1\n",
        "        if arr[i] == target:\n",
        "            return i, counter\n",
        "    return -1, counter\n",
        "\n",
        "def binary_search(arr, target):\n",
        "    left, right = 0, len(arr) - 1\n",
        "    counter = 0\n",
        "    while left <= right:\n",
        "        counter += 1\n",
        "        mid = (left + right) // 2\n",
        "        if arr[mid] == target:\n",
        "            return mid, counter\n",
        "        elif arr[mid] < target:\n",
        "            left = mid + 1\n",
        "        else:\n",
        "            right = mid - 1\n",
        "    return -1, counter\n",
        "\n",
        "def jump_search(arr, target):\n",
        "    n = len(arr)\n",
        "    step = int(math.sqrt(n))\n",
        "    prev = 0\n",
        "    counter = 0\n",
        "\n",
        "    while arr[min(step, n) - 1] < target:\n",
        "        counter += 1\n",
        "        prev = step\n",
        "        step += int(math.sqrt(n))\n",
        "        if prev >= n:\n",
        "            return -1, counter\n",
        "\n",
        "    while arr[prev] < target:\n",
        "        counter += 1\n",
        "        prev += 1\n",
        "        if prev == min(step, n):\n",
        "            return -1, counter\n",
        "\n",
        "    if arr[prev] == target:\n",
        "        return prev, counter\n",
        "\n",
        "    return -1, counter\n",
        "\n",
        "linear_index, linear_comparisons = linear_search(daftar_angka, target)\n",
        "binary_index, binary_comparisons = binary_search(daftar_angka, target)\n",
        "jump_index, jump_comparisons = jump_search(daftar_angka, target)\n",
        "\n",
        "print(\"Daftar Angka:\", daftar_angka)\n",
        "print(\"Target yang dicari:\", target)\n",
        "print(\"\\nHasil Pencarian:\")\n",
        "print(\"Linear Search: Indeks =\", linear_index, \", Jumlah Perbandingan =\", linear_comparisons)\n",
        "print(\"Binary Search: Indeks =\", binary_index, \", Jumlah Perbandingan =\", binary_comparisons)\n",
        "print(\"Jump Search: Indeks =\", jump_index, \", Jumlah Perbandingan =\", jump_comparisons)\n",
        "\n"
      ],
      "metadata": {
        "colab": {
          "base_uri": "https://localhost:8080/"
        },
        "id": "FHK98294FN6Z",
        "outputId": "ce6ca32a-ac29-43cf-d7e4-b79b4ab5804e"
      },
      "execution_count": 3,
      "outputs": [
        {
          "output_type": "stream",
          "name": "stdout",
          "text": [
            "Daftar Angka: [2, 5, 23, 35, 37, 58, 62, 66, 74, 77, 82, 85, 122, 125, 141, 145, 155, 158, 169, 187, 192, 198, 199, 200, 202, 213, 238, 248, 252, 256, 280, 289, 292, 298, 305, 308, 319, 320, 347, 351, 367, 368, 374, 395, 405, 406, 410, 432, 442, 451, 455, 460, 473, 479, 485, 486, 493, 509, 512, 517, 546, 557, 570, 575, 579, 588, 596, 599, 622, 625, 626, 628, 662, 665, 669, 694, 700, 705, 736, 752, 760, 768, 780, 786, 787, 789, 794, 795, 841, 915, 919, 920, 950, 957, 965, 972, 975, 977, 979, 995]\n",
            "Target yang dicari: 455\n",
            "\n",
            "Hasil Pencarian:\n",
            "Linear Search: Indeks = 50 , Jumlah Perbandingan = 51\n",
            "Binary Search: Indeks = 50 , Jumlah Perbandingan = 6\n",
            "Jump Search: Indeks = 50 , Jumlah Perbandingan = 5\n"
          ]
        }
      ]
    }
  ]
}