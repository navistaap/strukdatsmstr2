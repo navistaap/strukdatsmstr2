{
  "nbformat": 4,
  "nbformat_minor": 0,
  "metadata": {
    "colab": {
      "provenance": []
    },
    "kernelspec": {
      "name": "python3",
      "display_name": "Python 3"
    },
    "language_info": {
      "name": "python"
    }
  },
  "cells": [
    {
      "cell_type": "markdown",
      "source": [
        "#  Pengurutan Hasil Ujian Mahasiswa"
      ],
      "metadata": {
        "id": "EU2mp-To8KY4"
      }
    },
    {
      "cell_type": "code",
      "source": [
        "def quick_sort(mahasiswa_list):\n",
        "    if len(mahasiswa_list) <= 1:\n",
        "        return mahasiswa_list\n",
        "    else:\n",
        "        pivot = mahasiswa_list[len(mahasiswa_list) // 2].nilai\n",
        "        left = [m for m in mahasiswa_list if m.nilai > pivot]\n",
        "        middle = [m for m in mahasiswa_list if m.nilai == pivot]\n",
        "        right = [m for m in mahasiswa_list if m.nilai < pivot]\n",
        "\n",
        "        return quick_sort(left) + middle + quick_sort(right)\n",
        "\n",
        "mahasiswa_list = [\n",
        "    Mahasiswa(\"Dio\", 85),\n",
        "    Mahasiswa(\"Garto\", 92),\n",
        "    Mahasiswa(\"Carmen\", 78),\n",
        "    Mahasiswa(\"Karina\", 88),\n",
        "    Mahasiswa(\"Vani\", 84),\n",
        "    Mahasiswa(\"Vian\", 98),\n",
        "    Mahasiswa(\"Andi\", 67),\n",
        "    Mahasiswa(\"Lala\", 72)\n",
        "]\n",
        "\n",
        "mahasiswa_terurut = quick_sort(mahasiswa_list)\n",
        "\n",
        "print(\"Daftar Mahasiswa Berdasarkan Nilai (Tertinggi ke Terendah):\")\n",
        "for m in mahasiswa_terurut:\n",
        "    print(m)"
      ],
      "metadata": {
        "colab": {
          "base_uri": "https://localhost:8080/"
        },
        "id": "d2eAIv9o48Li",
        "outputId": "c1bd0d06-7ed0-4319-ce7d-856e20488276"
      },
      "execution_count": 9,
      "outputs": [
        {
          "output_type": "stream",
          "name": "stdout",
          "text": [
            "Daftar Mahasiswa Berdasarkan Nilai (Tertinggi ke Terendah):\n",
            "Vian, Nilai: 98\n",
            "Garto, Nilai: 92\n",
            "Karina, Nilai: 88\n",
            "Dio, Nilai: 85\n",
            "Vani, Nilai: 84\n",
            "Carmen, Nilai: 78\n",
            "Lala, Nilai: 72\n",
            "Andi, Nilai: 67\n"
          ]
        }
      ]
    }
  ]
}