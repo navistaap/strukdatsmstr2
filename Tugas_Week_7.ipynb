{
  "nbformat": 4,
  "nbformat_minor": 0,
  "metadata": {
    "colab": {
      "provenance": []
    },
    "kernelspec": {
      "name": "python3",
      "display_name": "Python 3"
    },
    "language_info": {
      "name": "python"
    }
  },
  "cells": [
    {
      "cell_type": "markdown",
      "source": [
        "#Tugas 1\n"
      ],
      "metadata": {
        "id": "2dQ9zZMuJ24z"
      }
    },
    {
      "cell_type": "code",
      "execution_count": 3,
      "metadata": {
        "colab": {
          "base_uri": "https://localhost:8080/"
        },
        "id": "xvKjE_ZYZlXF",
        "outputId": "83975442-dff4-45e3-9c3f-b66e1155b93a"
      },
      "outputs": [
        {
          "output_type": "stream",
          "name": "stdout",
          "text": [
            "Struktur Tree berdasarkan identitas saya (inorder traversal):\n",
            "3\n",
            "8\n",
            "18\n",
            "59\n",
            "11\n"
          ]
        }
      ],
      "source": [
        "class Node:\n",
        "    def __init__(self, data):\n",
        "        self.data = data\n",
        "        self.left = None\n",
        "        self.right = None\n",
        "\n",
        "def inorder_traversal(node):\n",
        "    if node:\n",
        "        inorder_traversal(node.left)\n",
        "        print(node.data)\n",
        "        inorder_traversal(node.right)\n",
        "\n",
        "nama_lengkap = \"Navista Andara Putri\"\n",
        "npm = \"2440506059\"\n",
        "tanggal_lahir = \"03-11-2006\"\n",
        "\n",
        "jumlah_huruf = len(nama_lengkap.replace(\" \", \"\"))\n",
        "jumlah_vokal = sum(1 for huruf in nama_lengkap.lower() if huruf in \"aiueo\")\n",
        "dua_digit_akhir_npm = int(npm[-2:])\n",
        "tanggal = int(tanggal_lahir[:2])\n",
        "bulan = int(tanggal_lahir[3:5])\n",
        "\n",
        "root = Node(jumlah_huruf)\n",
        "root.left = Node(jumlah_vokal)\n",
        "root.right = Node(dua_digit_akhir_npm)\n",
        "\n",
        "root.left.left = Node(tanggal)\n",
        "root.right.right = Node(bulan)\n",
        "\n",
        "print(\"Struktur Tree berdasarkan identitas saya (inorder traversal):\")\n",
        "inorder_traversal(root)\n"
      ]
    },
    {
      "cell_type": "markdown",
      "source": [
        "## Tugas 2\n"
      ],
      "metadata": {
        "id": "rBcmeb2eJyGW"
      }
    },
    {
      "cell_type": "code",
      "source": [
        "class Node:\n",
        "    def __init__(self, key):\n",
        "        self.key = key\n",
        "        self.left = None\n",
        "        self.right = None\n",
        "\n",
        "class BST:\n",
        "    def __init__(self):\n",
        "        self.root = None\n",
        "\n",
        "    def insert(self, root, key):\n",
        "        if root is None:\n",
        "            return Node(key)\n",
        "        elif key < root.key:\n",
        "            root.left = self.insert(root.left, key)\n",
        "        else:\n",
        "            root.right = self.insert(root.right, key)\n",
        "        return root\n",
        "\n",
        "    def inorder(self, node):\n",
        "        if node:\n",
        "            self.inorder(node.left)\n",
        "            print(node.key, end=' ')\n",
        "            self.inorder(node.right)\n",
        "\n",
        "    def preorder(self, node):\n",
        "        if node:\n",
        "            print(node.key, end=' ')\n",
        "            self.preorder(node.left)\n",
        "            self.preorder(node.right)\n",
        "\n",
        "    def postorder(self, node):\n",
        "        if node:\n",
        "            self.postorder(node.left)\n",
        "            self.postorder(node.right)\n",
        "            print(node.key, end=' ')\n",
        "\n",
        "    def search(self, node, key):\n",
        "        if node is None:\n",
        "            return False\n",
        "        if key == node.key:\n",
        "            return True\n",
        "        elif key < node.key:\n",
        "            return self.search(node.left, key)\n",
        "        else:\n",
        "            return self.search(node.right, key)\n",
        "\n",
        "data = [59, 3, 11, 78, 97, 7, 21]\n",
        "\n",
        "tree = BST()\n",
        "root = None\n",
        "for num in data:\n",
        "    root = tree.insert(root, num)\n",
        "\n",
        "print(\"Inorder Traversal:\")\n",
        "tree.inorder(root)\n",
        "print(\"\\nPreorder Traversal:\")\n",
        "tree.preorder(root)\n",
        "print(\"\\nPostorder Traversal:\")\n",
        "tree.postorder(root)\n",
        "\n",
        "print(\"\\n\\nPencarian:\")\n",
        "search_target_1 = 59\n",
        "search_target_2 = 100\n",
        "\n",
        "result1 = tree.search(root, search_target_1)\n",
        "result2 = tree.search(root, search_target_2)\n",
        "\n",
        "print(f\"Apakah {search_target_1} ditemukan? {'Ya' if result1 else 'Tidak'}\")\n",
        "print(f\"Apakah {search_target_2} ditemukan? {'Ya' if result2 else 'Tidak'}\")\n"
      ],
      "metadata": {
        "id": "hMbkM_nIaAqc",
        "colab": {
          "base_uri": "https://localhost:8080/"
        },
        "outputId": "1b5782a4-9026-4a36-bcea-996844ee8b55"
      },
      "execution_count": 2,
      "outputs": [
        {
          "output_type": "stream",
          "name": "stdout",
          "text": [
            "Inorder Traversal:\n",
            "3 7 11 21 59 78 97 \n",
            "Preorder Traversal:\n",
            "59 3 11 7 21 78 97 \n",
            "Postorder Traversal:\n",
            "7 21 11 3 97 78 59 \n",
            "\n",
            "Pencarian:\n",
            "Apakah 59 ditemukan? Ya\n",
            "Apakah 100 ditemukan? Tidak\n"
          ]
        }
      ]
    }
  ]
}