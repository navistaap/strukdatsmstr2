{
  "nbformat": 4,
  "nbformat_minor": 0,
  "metadata": {
    "colab": {
      "provenance": []
    },
    "kernelspec": {
      "name": "python3",
      "display_name": "Python 3"
    },
    "language_info": {
      "name": "python"
    }
  },
  "cells": [
    {
      "cell_type": "markdown",
      "source": [
        "# Eksperimen Sederhana Linear Probing"
      ],
      "metadata": {
        "id": "LUXfPcLBuc1S"
      }
    },
    {
      "cell_type": "code",
      "execution_count": 3,
      "metadata": {
        "colab": {
          "base_uri": "https://localhost:8080/"
        },
        "id": "jnzL3azpdJLZ",
        "outputId": "85aac29c-bfba-463d-bcfd-a7764033770e"
      },
      "outputs": [
        {
          "output_type": "stream",
          "name": "stdout",
          "text": [
            "[('A', 10), ('B', 20), ('C', 30), ('D', 40), ('E', 50)]\n"
          ]
        }
      ],
      "source": [
        "class LinearProbingHashTable:\n",
        "    def __init__(self, size):\n",
        "        self.size = size\n",
        "        self.table = [None] * size\n",
        "\n",
        "    def hash_function(self, key):\n",
        "        return ord(key[0]) % self.size\n",
        "\n",
        "    def put(self, key, value):\n",
        "        index = self.hash_function(key)\n",
        "        start_index = index\n",
        "\n",
        "        while self.table[index] is not None:\n",
        "            if self.table[index][0] == key:\n",
        "                self.table[index] = (key, value)\n",
        "                return\n",
        "            index = (index + 1) % self.size\n",
        "            if index == start_index:\n",
        "                print(\"Tabel penuh!\")\n",
        "                return\n",
        "        self.table[index] = (key, value)\n",
        "\n",
        "    def __str__(self):\n",
        "        return str(self.table)\n",
        "\n",
        "ht = LinearProbingHashTable(5)\n",
        "ht.put(\"A\", 10)\n",
        "ht.put(\"B\", 20)\n",
        "ht.put(\"C\", 30)\n",
        "ht.put(\"D\", 40)\n",
        "ht.put(\"E\", 50)\n",
        "print(ht)"
      ]
    },
    {
      "cell_type": "markdown",
      "source": [
        "# Percobaan Dasar Chaining"
      ],
      "metadata": {
        "id": "AHard5R-uXUb"
      }
    },
    {
      "cell_type": "code",
      "source": [
        "class ChainingHashTable:\n",
        "    def __init__(self, size):\n",
        "        self.size = size\n",
        "        self.table = [[] for _ in range(size)]\n",
        "\n",
        "    def hash_function(self, key):\n",
        "        return len(key) % self.size\n",
        "\n",
        "    def put(self, key, value):\n",
        "        index = self.hash_function(key)\n",
        "        for i, (k, v) in enumerate(self.table[index]):\n",
        "            if k == key:\n",
        "                self.table[index][i] = (key, value)\n",
        "                return\n",
        "        self.table[index].append((key, value))\n",
        "\n",
        "    def display(self):\n",
        "        for i, slot in enumerate(self.table):\n",
        "            print(f\"Index {i}: {slot}\")\n",
        "\n",
        "# Buat objek hash table ukuran 3\n",
        "ht = ChainingHashTable(3)\n",
        "ht.put(\"apel\", 100)\n",
        "ht.put(\"melon\", 200)\n",
        "ht.put(\"lemon\", 300)\n",
        "ht.put(\"pisang\", 400)\n",
        "ht.display()\n"
      ],
      "metadata": {
        "colab": {
          "base_uri": "https://localhost:8080/"
        },
        "id": "mxXL_L7gozkP",
        "outputId": "064b945c-e8ea-409f-beef-d602f21c5d62"
      },
      "execution_count": 5,
      "outputs": [
        {
          "output_type": "stream",
          "name": "stdout",
          "text": [
            "Index 0: [('pisang', 400)]\n",
            "Index 1: [('apel', 100)]\n",
            "Index 2: [('melon', 200), ('lemon', 300)]\n"
          ]
        }
      ]
    }
  ]
}